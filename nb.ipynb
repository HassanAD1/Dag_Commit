{
 "cells": [
  {
   "cell_type": "code",
   "execution_count": 4,
   "id": "afabaf85",
   "metadata": {},
   "outputs": [],
   "source": [
    "import requests"
   ]
  },
  {
   "cell_type": "code",
   "execution_count": 10,
   "id": "f7a1492f",
   "metadata": {},
   "outputs": [
    {
     "name": "stdout",
     "output_type": "stream",
     "text": [
      "https://api.aladhan.com/v1/calendar/25 March 2021?latitude=33.738045&longitude=73.084488\n"
     ]
    },
    {
     "ename": "TypeError",
     "evalue": "string indices must be integers",
     "output_type": "error",
     "traceback": [
      "\u001b[0;31m---------------------------------------------------------------------------\u001b[0m",
      "\u001b[0;31mTypeError\u001b[0m                                 Traceback (most recent call last)",
      "Cell \u001b[0;32mIn[10], line 15\u001b[0m\n\u001b[1;32m     13\u001b[0m response \u001b[38;5;241m=\u001b[39m requests\u001b[38;5;241m.\u001b[39mget(url)\u001b[38;5;66;03m#, headers=headers)\u001b[39;00m\n\u001b[1;32m     14\u001b[0m data \u001b[38;5;241m=\u001b[39m response\u001b[38;5;241m.\u001b[39mjson()\n\u001b[0;32m---> 15\u001b[0m prayer_times \u001b[38;5;241m=\u001b[39m \u001b[43mdata\u001b[49m\u001b[43m[\u001b[49m\u001b[38;5;124;43m'\u001b[39;49m\u001b[38;5;124;43mdata\u001b[39;49m\u001b[38;5;124;43m'\u001b[39;49m\u001b[43m]\u001b[49m\u001b[43m[\u001b[49m\u001b[43mday\u001b[49m\u001b[43m]\u001b[49m\u001b[43m[\u001b[49m\u001b[38;5;124;43m'\u001b[39;49m\u001b[38;5;124;43mtimings\u001b[39;49m\u001b[38;5;124;43m'\u001b[39;49m\u001b[43m]\u001b[49m\n\u001b[1;32m     17\u001b[0m prayer_times\u001b[38;5;241m.\u001b[39mto_csv(\u001b[38;5;124m'\u001b[39m\u001b[38;5;124mprayer_times.csv\u001b[39m\u001b[38;5;124m'\u001b[39m)\n",
      "\u001b[0;31mTypeError\u001b[0m: string indices must be integers"
     ]
    }
   ],
   "source": [
    "date=\"25 March 2021\"\n",
    "\n",
    "latitude = 33.738045  # Replace this with your current latitude.\n",
    "longitude = 73.084488  # Replace this with your current longitude.\n",
    "day = 10\n",
    "\n",
    "api_key = 'http://api.aladhan.com/v1/calendarByAddress/:year/:month'\n",
    "\n",
    "url = f'https://api.aladhan.com/v1/calendar/{date}?latitude={latitude}&longitude={longitude}'\n",
    "\n",
    "print(url)\n",
    "\n",
    "response = requests.get(url)#, headers=headers)\n",
    "data = response.json()\n",
    "prayer_times = data['data'][day]['timings']\n",
    "\n",
    "prayer_times.to_csv('prayer_times.csv')"
   ]
  },
  {
   "cell_type": "code",
   "execution_count": 11,
   "id": "39d21059",
   "metadata": {},
   "outputs": [
    {
     "data": {
      "text/plain": [
       "{'code': 400,\n",
       " 'status': 'BAD_REQUEST',\n",
       " 'data': 'Please specify a latitude, longitude, year and/or year.'}"
      ]
     },
     "execution_count": 11,
     "metadata": {},
     "output_type": "execute_result"
    }
   ],
   "source": [
    "data"
   ]
  },
  {
   "cell_type": "code",
   "execution_count": 12,
   "id": "dabeeedc",
   "metadata": {},
   "outputs": [],
   "source": [
    "\n",
    "def get_prayer_times(date, latitude, longitude,day):\n",
    "    api_key = 'http://api.aladhan.com/v1/calendarByAddress/:year/:month'\n",
    "    #url = f'https://api.aladhan.com/v1/timingsByCoordinates/{date}?latitude={latitude}&longitude={longitude}&method=2'  # 'method=2' corresponds to the Islamic Society of North America (ISNA) calculation method.\n",
    "    url = f'https://api.aladhan.com/v1/calendar/{date}?latitude={latitude}&longitude={longitude}'\n",
    "#     headers = {\n",
    "#         'Authorization': f'Bearer {api_key}',\n",
    "#     }\n",
    "    print(url)\n",
    "    response = requests.get(url)#, headers=headers)\n",
    "    if response.status_code == 200:\n",
    "        data = response.json()\n",
    "        prayer_times = data['data'][day]['timings']\n",
    "        return prayer_times\n",
    "    else:\n",
    "        print(f\"Error fetching prayer times: {response.status_code} - {response.text}\")\n",
    "        return None"
   ]
  },
  {
   "cell_type": "code",
   "execution_count": 14,
   "id": "95010685",
   "metadata": {},
   "outputs": [
    {
     "name": "stdout",
     "output_type": "stream",
     "text": [
      "https://api.aladhan.com/v1/calendar/2017/4?latitude=33.738045&longitude=73.084488\n",
      "          Fajr      Sunrise        Dhuhr          Asr       Sunset  \\\n",
      "1  04:16 (PKT)  05:42 (PKT)  12:09 (PKT)  15:45 (PKT)  18:36 (PKT)   \n",
      "2  04:16 (PKT)  05:42 (PKT)  12:09 (PKT)  15:45 (PKT)  18:36 (PKT)   \n",
      "3  04:16 (PKT)  05:42 (PKT)  12:09 (PKT)  15:45 (PKT)  18:36 (PKT)   \n",
      "4  04:16 (PKT)  05:42 (PKT)  12:09 (PKT)  15:45 (PKT)  18:36 (PKT)   \n",
      "5  04:16 (PKT)  05:42 (PKT)  12:09 (PKT)  15:45 (PKT)  18:36 (PKT)   \n",
      "\n",
      "       Maghrib         Isha        Imsak     Midnight   Firstthird  \\\n",
      "1  18:36 (PKT)  20:02 (PKT)  04:06 (PKT)  00:09 (PKT)  22:18 (PKT)   \n",
      "2  18:36 (PKT)  20:02 (PKT)  04:06 (PKT)  00:09 (PKT)  22:18 (PKT)   \n",
      "3  18:36 (PKT)  20:02 (PKT)  04:06 (PKT)  00:09 (PKT)  22:18 (PKT)   \n",
      "4  18:36 (PKT)  20:02 (PKT)  04:06 (PKT)  00:09 (PKT)  22:18 (PKT)   \n",
      "5  18:36 (PKT)  20:02 (PKT)  04:06 (PKT)  00:09 (PKT)  22:18 (PKT)   \n",
      "\n",
      "     Lastthird  \n",
      "1  02:00 (PKT)  \n",
      "2  02:00 (PKT)  \n",
      "3  02:00 (PKT)  \n",
      "4  02:00 (PKT)  \n",
      "5  02:00 (PKT)  \n"
     ]
    }
   ],
   "source": [
    "import pandas as pd\n",
    "\n",
    "if __name__ == '__main__':\n",
    "    date = '2017/4'  # Replace this with your desired date in YYYY-MM-DD format.\n",
    "    #islamabad 33.738045, 73.084488\n",
    "    latitude = 33.738045  # Replace this with your current latitude.\n",
    "    longitude = 73.084488  # Replace this with your current longitude.\n",
    "    day = 10\n",
    "\n",
    "    prayer_times = get_prayer_times(date, latitude, longitude,day)\n",
    "    \n",
    "    df = pd.DataFrame(prayer_times,index=[1,2,3,4,5])\n",
    "    \n",
    "    df.to_csv('prayer_times.csv')\n",
    "    \n",
    "    if prayer_times:\n",
    "        print(df)\n",
    "    else:\n",
    "        print(\"Failed to get prayer times.\")"
   ]
  },
  {
   "cell_type": "code",
   "execution_count": null,
   "id": "1e397eed",
   "metadata": {},
   "outputs": [],
   "source": []
  }
 ],
 "metadata": {
  "kernelspec": {
   "display_name": "Python 3 (ipykernel)",
   "language": "python",
   "name": "python3"
  },
  "language_info": {
   "codemirror_mode": {
    "name": "ipython",
    "version": 3
   },
   "file_extension": ".py",
   "mimetype": "text/x-python",
   "name": "python",
   "nbconvert_exporter": "python",
   "pygments_lexer": "ipython3",
   "version": "3.8.10"
  }
 },
 "nbformat": 4,
 "nbformat_minor": 5
}
